{
 "cells": [
  {
   "cell_type": "code",
   "execution_count": 1,
   "id": "9a5d6afe",
   "metadata": {},
   "outputs": [
    {
     "name": "stdout",
     "output_type": "stream",
     "text": [
      "The Top 10 Song Recommendation System\n",
      "-------------------------------------\n",
      "This will generate the 10 songs from the database thoese are similar to the song you entered.\n",
      "Please enter the name of song: rockstar\n",
      "You should check out these songs: \n",
      "\n",
      "Circles\n",
      "Congratulations\n",
      "Wow.\n",
      "Psycho\n",
      "ROCKSTAR\n",
      "Enemies\n",
      "Paranoid\n",
      "SaintTropez\n",
      "I Fall Apart\n",
      "Better Now\n",
      "\n",
      "\n",
      "Do you want to generate again for the next song? [yes, no] no\n"
     ]
    }
   ],
   "source": [
    "import pandas as pd\n",
    "from sklearn.feature_extraction.text import CountVectorizer\n",
    "from sklearn.metrics.pairwise import cosine_similarity\n",
    "df = pd.read_csv(\"song-dataset.csv\", low_memory=False)[:1000]\n",
    "df = df.drop_duplicates(subset=\"Song Name\")\n",
    "df = df.dropna(axis=0)\n",
    "df = df.drop(df.columns[3:], axis=1)\n",
    "df[\"Artist Name\"] = df[\"Artist Name\"].str.replace(\" \", \"\")\n",
    "df[\"data\"] = df.apply(lambda value: \" \".join(value.astype(\"str\")), axis=1)\n",
    "vectorizer = CountVectorizer()\n",
    "vectorized = vectorizer.fit_transform(df[\"data\"])\n",
    "similarities = cosine_similarity(vectorized)\n",
    "df_tmp = pd.DataFrame(similarities, columns=df[\"Song Name\"], index=df[\"Song Name\"]).reset_index()\n",
    "true = True\n",
    "while true:\n",
    "    print(\"The Top 10 Song Recommendation System\")\n",
    "    print(\"-------------------------------------\")\n",
    "    print(\"This will generate the 10 songs from the database thoese are similar to the song you entered.\")\n",
    "    while True:\n",
    "        input_song = input(\"Please enter the name of song: \")\n",
    "\n",
    "        if input_song in df_tmp.columns:\n",
    "            recommendation = df_tmp.nlargest(11, input_song)[\"Song Name\"]\n",
    "            break\n",
    "        \n",
    "        else:\n",
    "            print(\"Sorry, there is no song name in our database. Please try another one.\")\n",
    "    \n",
    "    print(\"You should check out these songs: \\n\")\n",
    "    for song in recommendation.values[1:]:\n",
    "        print(song)\n",
    "\n",
    "    print(\"\\n\")\n",
    "    while True:\n",
    "        next_command = input(\"Do you want to generate again for the next song? [yes, no] \")\n",
    "\n",
    "        if next_command == \"yes\":\n",
    "            break\n",
    "\n",
    "        elif next_command == \"no\":\n",
    "            true = False\n",
    "            break\n",
    "\n",
    "        else:\n",
    "            print(\"Please type 'yes' or 'no'\")\n"
   ]
  },
  {
   "cell_type": "code",
   "execution_count": null,
   "id": "d33cc7df",
   "metadata": {},
   "outputs": [],
   "source": []
  }
 ],
 "metadata": {
  "kernelspec": {
   "display_name": "Python 3 (ipykernel)",
   "language": "python",
   "name": "python3"
  },
  "language_info": {
   "codemirror_mode": {
    "name": "ipython",
    "version": 3
   },
   "file_extension": ".py",
   "mimetype": "text/x-python",
   "name": "python",
   "nbconvert_exporter": "python",
   "pygments_lexer": "ipython3",
   "version": "3.9.12"
  }
 },
 "nbformat": 4,
 "nbformat_minor": 5
}
