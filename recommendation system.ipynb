{
 "cells": [
  {
   "cell_type": "code",
   "execution_count": 1,
   "id": "513cfece",
   "metadata": {},
   "outputs": [
    {
     "name": "stdout",
     "output_type": "stream",
     "text": [
      "Dataset downloaded and extracted.\n"
     ]
    }
   ],
   "source": [
    "import zipfile\n",
    "import urllib.request\n",
    "\n",
    "url = \"https://files.grouplens.org/datasets/movielens/ml-latest-small.zip \"\n",
    "file_name = \"ml-latest-small.zip\"\n",
    "\n",
    "# Download the dataset\n",
    "urllib.request.urlretrieve(url, file_name)\n",
    "\n",
    "\n",
    "with zipfile.ZipFile(file_name, 'r') as zip_ref:\n",
    "    zip_ref.extractall(\".\")\n",
    "\n",
    "print(\"Dataset downloaded and extracted.\")\n"
   ]
  },
  {
   "cell_type": "code",
   "execution_count": 2,
   "id": "f9e78a45",
   "metadata": {},
   "outputs": [
    {
     "name": "stdout",
     "output_type": "stream",
     "text": [
      "      movieId                                      title  \\\n",
      "0           1                           Toy Story (1995)   \n",
      "1           2                             Jumanji (1995)   \n",
      "2           3                    Grumpier Old Men (1995)   \n",
      "3           4                   Waiting to Exhale (1995)   \n",
      "4           5         Father of the Bride Part II (1995)   \n",
      "...       ...                                        ...   \n",
      "9737   193581  Black Butler: Book of the Atlantic (2017)   \n",
      "9738   193583               No Game No Life: Zero (2017)   \n",
      "9739   193585                               Flint (2017)   \n",
      "9740   193587        Bungo Stray Dogs: Dead Apple (2018)   \n",
      "9741   193609        Andrew Dice Clay: Dice Rules (1991)   \n",
      "\n",
      "                                           genres  \n",
      "0     Adventure|Animation|Children|Comedy|Fantasy  \n",
      "1                      Adventure|Children|Fantasy  \n",
      "2                                  Comedy|Romance  \n",
      "3                            Comedy|Drama|Romance  \n",
      "4                                          Comedy  \n",
      "...                                           ...  \n",
      "9737              Action|Animation|Comedy|Fantasy  \n",
      "9738                     Animation|Comedy|Fantasy  \n",
      "9739                                        Drama  \n",
      "9740                             Action|Animation  \n",
      "9741                                       Comedy  \n",
      "\n",
      "[9742 rows x 3 columns]\n",
      "        userId  movieId  rating   timestamp\n",
      "0            1        1     4.0   964982703\n",
      "1            1        3     4.0   964981247\n",
      "2            1        6     4.0   964982224\n",
      "3            1       47     5.0   964983815\n",
      "4            1       50     5.0   964982931\n",
      "...        ...      ...     ...         ...\n",
      "100831     610   166534     4.0  1493848402\n",
      "100832     610   168248     5.0  1493850091\n",
      "100833     610   168250     5.0  1494273047\n",
      "100834     610   168252     5.0  1493846352\n",
      "100835     610   170875     3.0  1493846415\n",
      "\n",
      "[100836 rows x 4 columns]\n"
     ]
    },
    {
     "data": {
      "text/plain": [
       "NearestNeighbors(algorithm='brute', metric='cosine')"
      ]
     },
     "execution_count": 2,
     "metadata": {},
     "output_type": "execute_result"
    }
   ],
   "source": [
    "import pandas as pd\n",
    "import numpy as np\n",
    "from sklearn.neighbors import NearestNeighbors\n",
    "from scipy.sparse import csr_matrix\n",
    "\n",
    "movies = pd.read_csv('ml-latest-small/movies.csv')\n",
    "ratings = pd.read_csv('ml-latest-small/ratings.csv')\n",
    "print(movies)\n",
    "print(ratings)\n",
    "\n",
    "data = pd.merge(ratings, movies, on='movieId')\n",
    "\n",
    "data = data.groupby(['userId', 'title']).rating.mean().reset_index()\n",
    "pivot_table = data.pivot(index='userId', columns='title', values='rating').fillna(0)\n",
    "\n",
    "sparse_matrix = csr_matrix(pivot_table.values)\n",
    "\n",
    "model = NearestNeighbors(metric='cosine', algorithm='brute')\n",
    "model.fit(sparse_matrix)\n"
   ]
  },
  {
   "cell_type": "code",
   "execution_count": 3,
   "id": "589df6e1",
   "metadata": {},
   "outputs": [],
   "source": [
    "def get_movie_recommendations(user_id, num_recommendations=10):\n",
    "    try:\n",
    "        user_idx = pivot_table.index.get_loc(user_id)\n",
    "        distances, indices = model.kneighbors(sparse_matrix[user_idx], n_neighbors=num_recommendations+1)\n",
    "        recommendations = [pivot_table.columns[idx] for idx in indices.flatten()]\n",
    "        return recommendations[1:]\n",
    "    except KeyError:\n",
    "        return []\n"
   ]
  },
  {
   "cell_type": "code",
   "execution_count": 6,
   "id": "fb29ff90",
   "metadata": {},
   "outputs": [
    {
     "name": "stdout",
     "output_type": "stream",
     "text": [
      "No recommendations found or invalid User ID for user 0\n",
      "Recommendations for user 5: ['Analyze That (2002)', 'Admission (2013)', 'Apocalypto (2006)', 'Adventures of Buckaroo Banzai Across the 8th Dimension, The (1984)', '8 Women (2002)', 'Anchorman 2: The Legend Continues (2013)', 'Animal Crackers (1930)', '1900 (Novecento) (1976)', 'Alpha (2018)', 'Anaconda: The Offspring (2008)']\n"
     ]
    }
   ],
   "source": [
    "import tkinter as tk\n",
    "from tkinter import ttk, messagebox\n",
    "\n",
    "class MovieRecommenderApp:\n",
    "    def __init__(self, root):\n",
    "        self.root = root\n",
    "        self.root.title(\"Movie Recommender System\")\n",
    "        \n",
    "        self.label = ttk.Label(root, text=\"Enter User ID:\")\n",
    "        self.label.grid(row=0, column=0, padx=10, pady=10)\n",
    "        \n",
    "        self.user_id_entry = ttk.Entry(root)\n",
    "        self.user_id_entry.grid(row=0, column=1, padx=10, pady=10)\n",
    "        \n",
    "        self.recommend_button = ttk.Button(root, text=\"Get Recommendations\", command=self.show_recommendations)\n",
    "        self.recommend_button.grid(row=0, column=2, padx=10, pady=10)\n",
    "        \n",
    "        self.recommendations_listbox = tk.Listbox(root, width=50, height=15)\n",
    "        self.recommendations_listbox.grid(row=1, column=0, columnspan=3, padx=10, pady=10)\n",
    "        \n",
    "    def show_recommendations(self):\n",
    "        user_id = self.user_id_entry.get()\n",
    "        if not user_id.isdigit():\n",
    "            messagebox.showerror(\"Invalid Input\", \"User ID must be an integer.\")\n",
    "            return\n",
    "        \n",
    "        user_id = int(user_id)\n",
    "        recommendations = get_movie_recommendations(user_id)\n",
    "        \n",
    "        self.recommendations_listbox.delete(0, tk.END)\n",
    "        if recommendations:\n",
    "            for rec in recommendations:\n",
    "                self.recommendations_listbox.insert(tk.END, rec)\n",
    "            print(\"Recommendations for user {}: {}\".format(user_id, recommendations))\n",
    "        else:\n",
    "            self.recommendations_listbox.insert(tk.END, \"No recommendations found or invalid User ID.\")\n",
    "            print(\"No recommendations found or invalid User ID for user {}\".format(user_id))\n",
    "\n",
    "if __name__ == \"__main__\":\n",
    "    root = tk.Tk()\n",
    "    app = MovieRecommenderApp(root)\n",
    "    root.mainloop()\n"
   ]
  },
  {
   "cell_type": "code",
   "execution_count": null,
   "id": "9564f482",
   "metadata": {},
   "outputs": [],
   "source": []
  },
  {
   "cell_type": "code",
   "execution_count": null,
   "id": "92858312",
   "metadata": {},
   "outputs": [],
   "source": []
  }
 ],
 "metadata": {
  "kernelspec": {
   "display_name": "Python 3 (ipykernel)",
   "language": "python",
   "name": "python3"
  },
  "language_info": {
   "codemirror_mode": {
    "name": "ipython",
    "version": 3
   },
   "file_extension": ".py",
   "mimetype": "text/x-python",
   "name": "python",
   "nbconvert_exporter": "python",
   "pygments_lexer": "ipython3",
   "version": "3.9.12"
  }
 },
 "nbformat": 4,
 "nbformat_minor": 5
}
